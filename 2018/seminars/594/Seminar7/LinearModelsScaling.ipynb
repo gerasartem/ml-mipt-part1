{
 "cells": [
  {
   "cell_type": "code",
   "execution_count": 55,
   "metadata": {
    "collapsed": true
   },
   "outputs": [],
   "source": [
    "import numpy as np\n",
    "import pandas as pd\n",
    "import matplotlib.pyplot as plt\n",
    "%matplotlib inline\n",
    "import seaborn as sns\n",
    "\n",
    "import warnings\n",
    "warnings.filterwarnings('ignore')"
   ]
  },
  {
   "cell_type": "code",
   "execution_count": 88,
   "metadata": {
    "collapsed": false
   },
   "outputs": [],
   "source": [
    "df = pd.read_csv(\"data/train.csv\")\n",
    "labels = df.TARGET\n",
    "df.drop([\"ID\", \"TARGET\"], axis=1, inplace=1)"
   ]
  },
  {
   "cell_type": "markdown",
   "metadata": {},
   "source": [
    "### Масштабирование признаков в случае регуляризированной линейной модели"
   ]
  },
  {
   "cell_type": "code",
   "execution_count": 89,
   "metadata": {
    "collapsed": false
   },
   "outputs": [
    {
     "name": "stdout",
     "output_type": "stream",
     "text": [
      "w/o scaling -0.439\n",
      "normalize -0.150\n",
      "min-max -0.147\n",
      "max-abs -0.147\n",
      "robust_scale -0.673\n"
     ]
    }
   ],
   "source": [
    "from sklearn.linear_model import LogisticRegression\n",
    "from sklearn.model_selection import cross_val_score\n",
    "from sklearn.preprocessing import scale, minmax_scale, maxabs_scale, robust_scale\n",
    "\n",
    "X = df.values\n",
    "y = labels\n",
    "\n",
    "print 'w/o scaling', \"{0:.3f}\".format(cross_val_score(lr, X, y, scoring='neg_log_loss', ).mean())\n",
    "print 'normalize', \"{0:.3f}\".format(cross_val_score(lr, scale(X), y, scoring='neg_log_loss', ).mean())\n",
    "print 'min-max', \"{0:.3f}\".format(cross_val_score(lr, minmax_scale(X), y, scoring='neg_log_loss', ).mean())\n",
    "print 'max-abs', \"{0:.3f}\".format(cross_val_score(lr, maxabs_scale(X), y, scoring='neg_log_loss', ).mean())\n",
    "print 'robust_scale', \"{0:.3f}\".format(cross_val_score(lr, robust_scale(X), y, scoring='neg_log_loss', ).mean())"
   ]
  }
 ],
 "metadata": {
  "kernelspec": {
   "display_name": "Python 2",
   "language": "python",
   "name": "python2"
  },
  "language_info": {
   "codemirror_mode": {
    "name": "ipython",
    "version": 2
   },
   "file_extension": ".py",
   "mimetype": "text/x-python",
   "name": "python",
   "nbconvert_exporter": "python",
   "pygments_lexer": "ipython2",
   "version": "2.7.12"
  }
 },
 "nbformat": 4,
 "nbformat_minor": 2
}
