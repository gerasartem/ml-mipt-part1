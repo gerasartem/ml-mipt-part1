{
 "cells": [
  {
   "cell_type": "markdown",
   "metadata": {},
   "source": [
    "<span style=\"font-size: 14pt\">Домашнее задание №1 </span>\n",
    "\n",
    "<span style=\"color: red; font-size: 14pt\">Deadline: 27.02.2018 23:59:59</span>\n",
    "\n",
    "<span style=\"font-size: 10pt\">ФИВТ, АПТ, Курс по машинному обучению, Весна 2018</span>\n",
    "\n",
    "<span style=\"color:blue; font-size: 10pt\">Alexey Romanenko, </span>\n",
    "<span style=\"color:blue; font-size: 10pt; font-family: 'Verdana'\">alexromsput@gmail.com</span>\n"
   ]
  },
  {
   "cell_type": "markdown",
   "metadata": {},
   "source": [
    "<h1 align=\"center\">Organization Info</h1> "
   ]
  },
  {
   "cell_type": "markdown",
   "metadata": {},
   "source": [
    "**Дополнительный материал для выполнения дз**:\n",
    "- Воронцов К. В. Математические методы обучения по прецедентам. 2012. \n",
    "- Мерков А. Б. Распознавание образов. Введение в методы статистического обучения. Едиториал УРСС. 2011. 256 стр.\n",
    "- Hastie T., Tibshirani R., Friedman J. The Elements of Statistical Learning. Springer: Data Mining, Inference, and Prediction. — 2nd ed. — Springer-Verlag. 2009. — 746 p.\n",
    "- C. M. Bishop. Pattern Recognition and Machine Learning. — Springer, Series: Information Science and Statistics. 2006. — 738 p.\n",
    "\n",
    "**Оформление дз**: \n",
    "- Присылайте выполненное задание на почту ``ml.course.mipt@gmail.com``\n",
    "- Укажите тему письма в следующем формате ``ML2018_fall <номер_группы> <фамилия>``, к примеру -- ``ML2018_fall 596 ivanov``\n",
    "- Выполненное дз сохраните в файл ``ML2018_<фамилия>_<группа>_task<номер задания>.ipnb``, к примеру -- ``ML2018_ivanov_596_task1.ipnb``\n",
    "\n",
    "**Вопросы**:\n",
    "- Присылайте вопросы на почту ``ml.course.mipt@gmail.com``\n",
    "- Укажите тему письма в следующем формате ``ML2018_fall Question <Содержание вопроса>``\n",
    "\n",
    "--------\n",
    "- **PS1**: Используются автоматические фильтры, и просто не найдем ваше дз, если вы неаккуратно его подпишите.\n",
    "- **PS2**: Просроченный дедлайн снижает максимальный вес задания по формуле, указнной на первом семинаре\n",
    "- **PS3**: Допустимы исправление кода предложенного кода ниже, если вы считаете"
   ]
  },
  {
   "cell_type": "markdown",
   "metadata": {},
   "source": [
    "<h1 align=\"center\"> Вопросы для самоконтроля </h1> \n",
    "\n",
    "Ниже приводится список вопросов, с ответами на которые может быть полезно разобраться для комфортного выполнения задания.\n",
    "\n",
    "* Основные понятия\n",
    "    1. Что такое задачи классификации, кластеризации и регрессии? Какие из них относятся к supervised learning, а какие - к unsupervised learning?\n",
    "    2. Что такое переобучение и недообучение? Как их можно детектировать?\n",
    "    3. Что такое обучающая и тестовая выборки, кросс-валидация? Как устроена k-fold cross validation?\n",
    "    4. Разложение ошибки метода обучения на bias и Variance: как ведут себя обе величины, когда увеличивается сложность семейства настраиваемых алгоритмов?\n",
    "\n",
    "\n",
    "* Простые методы\n",
    "    1. Как работает kNN в задаче классификации?\n",
    "    2. Как работает kNN с весами объектов в задаче классификации и в задаче регрессии?\n",
    "    3. Как работает наивный байесовский классификатор, в чем заключается его \"наивность\"?\n",
    "    4. Как приближается исходная зависимость y от x в линейной регрессии и как настраиваются веса в ней?\n",
    "    5. В чем суть проклятия размерности?\n",
    "\n",
    "\n",
    "* Измерение ошибки/точности в задачах классификации и регрессии\n",
    "    1. Как вычисляются и в каких задачах (классификации/регрессии) применяются метрики:\n",
    "    accuracy, precision, recall, F1-measure, ROC-AUC, PR-AUC, MSE, MAE, RMSE?\n",
    "    2. Решается задача бинарной классификации (с двумя классами - 0 и 1), в которой при-\n",
    "    меры из класса 0 составляют 95% выборки. Какие метрики из перечисленных в преды-\n",
    "    дущем вопросе предпочтительней использовать?\n",
    "    3. К оценке какой величины для распределения y при условии x приводят MSE и MAE?\n",
    "    4. Какая из метрик должня использоваться в задаче регрессии, чтобы ответ был равен медиане распределения прогнозируемой случайно величины?\n",
    "\n",
    "\n",
    "* Python, numpy, scipy, matplotlib, sklearn, pandas\n",
    "    1. Типы данных list, tuple, dict, set, str, unicode, hashable и unhashable. \n",
    "    2. Зачем нужны numpy и scipy? Какой тип данных в numpy используется для работы с\n",
    "    многомерными массивами? Отличия в индексации двумерного ndarray и списка списков.\n",
    "    3. Как в scipy решить численно несложную оптимизационную задачу? Какие методы оп-\n",
    "    тимизации в нем представлены?\n",
    "    4. Как по списку значений x и списку значений y в этих точках построить график y(x) в\n",
    "    matplotlib?\n",
    "    5. Как в sklearn обучить модель на обучающей выборке и получить прогнозы на тестовой?\n",
    "    6. Какие есть средства для измерения качества модели в sklearn? Как посчтитать качество\n",
    "    в k-fold cross validation?\n",
    "    7. Какие метрики можно использовать в cross_val_score из sklearn?\n",
    "    8. Как считать выборку из csv в pandas DataFrame? А как записать DataFrame в файл? Как\n",
    "    указывать при чтении/записи кодировку, используемые разделители, наличие/отсутствие\n",
    "    заголовков у колонок?"
   ]
  },
  {
   "cell_type": "markdown",
   "metadata": {},
   "source": [
    "<h1 align=\"center\">Теоретические вопросы (2 балла) </h1> "
   ]
  },
  {
   "cell_type": "markdown",
   "metadata": {},
   "source": [
    "** Задача 1**\n",
    "Покажите, что ROC-AUC  в случае, когда классификатор даёт случайные ответы $a(x) = 1$ с вероятностью $p$ и $a(x) = 0$ с вероятностью $1 − p$, будет в среднем равен 0.5 независимо от p и доли класса 1 в обучающей выборке.\n",
    "\n",
    "<Решение:>"
   ]
  },
  {
   "cell_type": "markdown",
   "metadata": {},
   "source": [
    "** Задача 2**\n",
    "Покажите, что с ростом размерности пространства признаков при равномерном распределении точек в кубе $[0; 1]^𝑑$ вероятность попасть в куб $[0; 0, 99]^𝑑$ стремится к нулю. Это одна из иллюстраций проклятия размерностей (dimension curse). Попробуйте придумать или найти еще какую-нибудь иллюстрацию к этому явлению и кратко изложить.\n",
    "\n",
    "Решение:\n",
    "\n",
    "$$X \\sim U[0, 1]^d$$\n",
    "$$P(X \\in [0, 0.99]^d) = 0.99^d \\underset{d \\rightarrow +\\infty}\\rightarrow 0$$\n",
    "\n",
    "При повышении размерности для востановления распределения перебором количество данных в обучающеей выборке растёт экспоненциально.\n",
    "\n",
    "Рассмотрим единичный интервал $[0,1]$. $100$ равномерно разбросанных точек будет достаточно, чтобы покрыть этот интервал с частотой не менее $0,01$.\n",
    "\n",
    "Теперь рассмотрим $10$-мерный куб. Для достижения той же степени покрытия потребуется уже $10^{20}$ точек. То есть, по сравнению с одномерным пространством, требуется в $10^{18}$ раз больше точек."
   ]
  },
  {
   "cell_type": "markdown",
   "metadata": {
    "collapsed": true
   },
   "source": [
    "<h1 align=\"center\">Исследуйте зависимость Bias-Variance для kNN (3 балла) </h1> "
   ]
  },
  {
   "cell_type": "markdown",
   "metadata": {},
   "source": [
    "Используя данные из задачи классификации доходов индивидуума http://archive.ics.uci.edu/ml/machine-learning-databases/adult, постройте зависимость величин bias, variance и noise для следующих пар \"модель|параметр\".\n",
    "Предобработка данных (преобразование признаков, разметка классов) определяется вами. \n",
    "\n",
    "* kNN, $n\\_neigbours$ - число соседей при классификации;\n",
    "* $p$ - степень метрики Минковского;\n",
    "* $\\ell\\_train$ - длина обучающий выборки;\n",
    "\n",
    "\n",
    "По каждому построенному графику (для каждого параметра должен быть отдельный график) объясните полученную картину. Совпадает ли она с теоретическими ожиданиями (см. семинар 2)?"
   ]
  },
  {
   "cell_type": "code",
   "execution_count": 2,
   "metadata": {},
   "outputs": [
    {
     "name": "stderr",
     "output_type": "stream",
     "text": [
      "/home/geras-artem/anaconda3/lib/python3.6/site-packages/sklearn/cross_validation.py:41: DeprecationWarning: This module was deprecated in version 0.18 in favor of the model_selection module into which all the refactored classes and functions are moved. Also note that the interface of the new CV iterators are different from that of this module. This module will be removed in 0.20.\n",
      "  \"This module will be removed in 0.20.\", DeprecationWarning)\n"
     ]
    }
   ],
   "source": [
    "import numpy as np\n",
    "import matplotlib.pyplot as plt\n",
    "import pandas as pd\n",
    "from tqdm import tqdm_notebook\n",
    "from sklearn.neighbors import KNeighborsClassifier\n",
    "from sklearn.cross_validation import train_test_split\n",
    "%matplotlib inline"
   ]
  },
  {
   "cell_type": "markdown",
   "metadata": {},
   "source": [
    "Немного подготовки."
   ]
  },
  {
   "cell_type": "code",
   "execution_count": 56,
   "metadata": {
    "collapsed": true
   },
   "outputs": [],
   "source": [
    "# Settings\n",
    "n_repeat = 100       # Number of iterations for computing expectations\n",
    "test_size = 0.5       # (Relative) Size of the test set\n",
    "\n",
    "# Исследуемая сетка параметров\n",
    "# пояснение: длина train выборки должна варьироваться от 50% до 200% относительно длины тестовой выборки  \n",
    "parameters = {\"k\": range(1, 21), \"p\":  np.arange(1, 10, 0.5), \"l_train\": np.arange(0.5, 2, 0.1)}\n",
    "\n",
    "# Get Data\n",
    "data = pd.read_csv('./adult.data', header=None)\n",
    "# преобразуем значения последнего столбца к бинарному типу\n",
    "data[14] = (data[14] == np.unique(data[14])[0]).astype(int)\n",
    "# оставим только числовые признаки\n",
    "data = data[data.columns[data.dtypes == int]]\n",
    "train, test = train_test_split(data, test_size=test_size)\n",
    "\n",
    "\n",
    "# Для того чтобы оценить bias и variance, нужно сгенерировать случайные подвыборки с возвращением из исходного массива данных \n",
    "# (бутстрепинг)\n",
    "X_train, y_train = [], []\n",
    "for i in range(n_repeat):\n",
    "    sample_train = train.sample(n=len(train), replace=True) \n",
    "    X, y = sample_train[sample_train.columns[:-1]], sample_train[sample_train.columns[-1]]\n",
    "    X_train.append(X)\n",
    "    y_train.append(y)"
   ]
  },
  {
   "cell_type": "markdown",
   "metadata": {},
   "source": [
    "Построим график зависимости от параметра $p$:"
   ]
  },
  {
   "cell_type": "code",
   "execution_count": 57,
   "metadata": {},
   "outputs": [
    {
     "data": {
      "application/vnd.jupyter.widget-view+json": {
       "model_id": "b79b502b367c4d269463e02124fad469",
       "version_major": 2,
       "version_minor": 0
      },
      "text/plain": [
       "A Jupyter Widget"
      ]
     },
     "metadata": {},
     "output_type": "display_data"
    },
    {
     "name": "stdout",
     "output_type": "stream",
     "text": [
      "\n"
     ]
    },
    {
     "data": {
      "image/png": "[encoded data removed]",
      "text/plain": [
       "<matplotlib.figure.Figure at 0x7f791e21beb8>"
      ]
     },
     "metadata": {},
     "output_type": "display_data"
    }
   ],
   "source": [
    "# Для каждого значения парамера оцените значение error, bias и variance согласно следующей схеме\n",
    "p_name ='p'\n",
    "bias_variance_df_p = pd.DataFrame.from_dict({p_name:parameters[p_name],'bias':list([np.NaN]*len(parameters[p_name]))\n",
    "                                             , 'variance':list([np.NaN]*len(parameters[p_name]))\n",
    "                                             , 'error':list([np.NaN]*len(parameters[p_name]))})\n",
    "\n",
    "X_test, y_test = test[test.columns[:-1]], np.array(test[test.columns[-1]])\n",
    "n_test = len(test)\n",
    "\n",
    "for parameter in tqdm_notebook(parameters[p_name]):\n",
    "    # Compute predictions\n",
    "    y_predict = np.zeros((n_repeat, n_test))\n",
    "\n",
    "    for i in range(n_repeat):\n",
    "        estimator = KNeighborsClassifier(**{p_name:parameter}).fit(X_train[i], y_train[i])\n",
    "        y_predict[i] = estimator.predict(X_test)\n",
    "\n",
    "    # Bias^2 + Variance + Noise decomposition of the mean squared error\n",
    "\n",
    "    y_error = ((y_predict - y_test) ** 2).mean()\n",
    "\n",
    "    # В каждой точке тестовой выборки bias положим равным квадрату разности реального значения \n",
    "    # и среднего предсказанного значения по всем обучающим выборкам.\n",
    "    y_bias = (y_test - np.mean(y_predict, axis=0)) ** 2\n",
    "    \n",
    "    # Variance положим равным среднеквадратичному разбросу значений по всем обучающим выборкам. \n",
    "    # Итоговое значение bias и variance возьмём равным среднему по всем точкам тестовой выборки\n",
    "    y_var = np.var(y_predict, axis=0)\n",
    "    \n",
    "    bias_variance_df_p.loc[bias_variance_df_p[p_name]==parameter, 'bias'] = y_bias.mean()\n",
    "    bias_variance_df_p.loc[bias_variance_df_p[p_name]==parameter, 'variance'] = y_var.mean()\n",
    "    bias_variance_df_p.loc[bias_variance_df_p[p_name]==parameter, 'error'] = y_error\n",
    "    \n",
    "# нарисуйте зависимость bias, variance и error от значений параметров\n",
    "plt.figure(figsize=(15, 8))\n",
    "bias_variance_df_p.set_index(p_name).plot(ax=plt.axes())\n",
    "plt.show()"
   ]
  },
  {
   "cell_type": "markdown",
   "metadata": {},
   "source": [
    "Во-первых, получили, что $error \\approx bias^2 + var$, а во-вторых, что от степени метрики зависимость незначительна."
   ]
  },
  {
   "cell_type": "markdown",
   "metadata": {},
   "source": [
    "Позстроим график зависимости от параметра $k$:"
   ]
  },
  {
   "cell_type": "code",
   "execution_count": 58,
   "metadata": {},
   "outputs": [
    {
     "data": {
      "application/vnd.jupyter.widget-view+json": {
       "model_id": "5f5cf8b732ed4c32800cce330719777b",
       "version_major": 2,
       "version_minor": 0
      },
      "text/plain": [
       "A Jupyter Widget"
      ]
     },
     "metadata": {},
     "output_type": "display_data"
    },
    {
     "name": "stdout",
     "output_type": "stream",
     "text": [
      "\n"
     ]
    },
    {
     "data": {
      "image/png": "[encoded data removed]",
      "text/plain": [
       "<matplotlib.figure.Figure at 0x7f791e0fef60>"
      ]
     },
     "metadata": {},
     "output_type": "display_data"
    }
   ],
   "source": [
    "# Для каждого значения парамера оцените значение error, bias и variance согласно следующей схеме\n",
    "p_name = 'k'\n",
    "bias_variance_df_k = pd.DataFrame.from_dict({p_name:parameters[p_name],'bias':list([np.NaN]*len(parameters[p_name]))\n",
    "                                           , 'variance':list([np.NaN]*len(parameters[p_name]))\n",
    "                                           , 'error':list([np.NaN]*len(parameters[p_name]))})\n",
    "\n",
    "X_test, y_test = test[test.columns[:-1]], np.array(test[test.columns[-1]])\n",
    "n_test = len(test)\n",
    "\n",
    "for parameter in tqdm_notebook(parameters[p_name]):\n",
    "    # Compute predictions\n",
    "    y_predict = np.zeros((n_repeat, n_test))\n",
    "\n",
    "    for i in range(n_repeat):\n",
    "        estimator = KNeighborsClassifier(n_neighbors=parameter).fit(X_train[i], y_train[i])\n",
    "        y_predict[i] = estimator.predict(X_test)\n",
    "\n",
    "    # Bias^2 + Variance + Noise decomposition of the mean squared error\n",
    "\n",
    "    y_error = ((y_predict - y_test) ** 2).mean()\n",
    "\n",
    "    # В каждой точке тестовой выборки bias положим равным квадрату разности реального значения \n",
    "    # и среднего предсказанного значения по всем обучающим выборкам.\n",
    "    y_bias = (y_test - np.mean(y_predict, axis=0)) ** 2\n",
    "    \n",
    "    # Variance положим равным среднеквадратичному разбросу значений по всем обучающим выборкам. \n",
    "    # Итоговое значение bias и variance возьмём равным среднему по всем точкам тестовой выборки\n",
    "    y_var = np.var(y_predict, axis=0)\n",
    "    \n",
    "    bias_variance_df_k.loc[bias_variance_df_k[p_name]==parameter, 'bias'] = y_bias.mean()\n",
    "    bias_variance_df_k.loc[bias_variance_df_k[p_name]==parameter, 'variance'] = y_var.mean()\n",
    "    bias_variance_df_k.loc[bias_variance_df_k[p_name]==parameter, 'error'] = y_error\n",
    "    \n",
    "# нарисуйте зависимость bias, variance и error от значений параметров\n",
    "plt.figure(figsize=(15, 8))\n",
    "bias_variance_df_k.set_index(p_name).plot(ax=plt.axes())\n",
    "plt.show()"
   ]
  },
  {
   "cell_type": "markdown",
   "metadata": {},
   "source": [
    "Здесь также получили, что $error \\approx bias^2 + var$. Помимо этого, с ростом $k$ $error$ уменьшается, как и ожидалось. А ещё можно заметить, что на чётных значения $k$ $error$ больше, т.к. возможны случаи с равным числом соседей разных классов."
   ]
  },
  {
   "cell_type": "markdown",
   "metadata": {},
   "source": [
    "Построим график зависимости от параметра $l_{train}$:"
   ]
  },
  {
   "cell_type": "code",
   "execution_count": 59,
   "metadata": {},
   "outputs": [
    {
     "data": {
      "application/vnd.jupyter.widget-view+json": {
       "model_id": "a69337a0ee0342f1812197f23f9698ad",
       "version_major": 2,
       "version_minor": 0
      },
      "text/plain": [
       "A Jupyter Widget"
      ]
     },
     "metadata": {},
     "output_type": "display_data"
    },
    {
     "name": "stdout",
     "output_type": "stream",
     "text": [
      "\n"
     ]
    },
    {
     "data": {
      "image/png": "[encoded data removed]",
      "text/plain": [
       "<matplotlib.figure.Figure at 0x7f791dfb4198>"
      ]
     },
     "metadata": {},
     "output_type": "display_data"
    }
   ],
   "source": [
    "# Для каждого значения парамера оцените значение error, bias и variance согласно следующей схеме\n",
    "p_name ='l_train'\n",
    "bias_variance_df_l = pd.DataFrame.from_dict({p_name:parameters[p_name],'bias':list([np.NaN]*len(parameters[p_name]))\n",
    "                                             , 'variance':list([np.NaN]*len(parameters[p_name]))\n",
    "                                             , 'error':list([np.NaN]*len(parameters[p_name]))})\n",
    "\n",
    "X_test, y_test = test[test.columns[:-1]], np.array(test[test.columns[-1]])\n",
    "n_test = len(test)\n",
    "\n",
    "for parameter in tqdm_notebook(parameters[p_name]):\n",
    "    # Генерируем тренировочные выборки нового размера\n",
    "    X_train, y_train = [], []\n",
    "    for i in range(n_repeat):\n",
    "        sample_train = train.sample(n=int(n_test * parameter), replace=True) \n",
    "        X, y = sample_train[sample_train.columns[:-1]], sample_train[sample_train.columns[-1]]\n",
    "        X_train.append(X)\n",
    "        y_train.append(y)\n",
    "        \n",
    "    # Compute predictions\n",
    "    y_predict = np.zeros((n_repeat, n_test))\n",
    "\n",
    "    for i in range(n_repeat):\n",
    "        estimator = KNeighborsClassifier().fit(X_train[i], y_train[i])\n",
    "        y_predict[i] = estimator.predict(X_test)\n",
    "    \n",
    "\n",
    "    # Bias^2 + Variance + Noise decomposition of the mean squared error\n",
    "\n",
    "    y_error = ((y_predict - y_test) ** 2).mean()\n",
    "\n",
    "    # В каждой точке тестовой выборки bias положим равным квадрату разности реального значения \n",
    "    # и среднего предсказанного значения по всем обучающим выборкам.\n",
    "    y_bias = (y_test - np.mean(y_predict, axis=0)) ** 2\n",
    "    \n",
    "    # Variance положим равным среднеквадратичному разбросу значений по всем обучающим выборкам. \n",
    "    # Итоговое значение bias и variance возьмём равным среднему по всем точкам тестовой выборки\n",
    "    y_var = np.var(y_predict, axis=0)\n",
    "    \n",
    "    bias_variance_df_l.loc[bias_variance_df_l[p_name]==parameter, 'bias'] = y_bias.mean()\n",
    "    bias_variance_df_l.loc[bias_variance_df_l[p_name]==parameter, 'variance'] = y_var.mean()\n",
    "    bias_variance_df_l.loc[bias_variance_df_l[p_name]==parameter, 'error'] = y_error\n",
    "    \n",
    "# нарисуйте зависимость bias, variance и error от значений параметров\n",
    "plt.figure(figsize=(15, 8))\n",
    "bias_variance_df_l.set_index(p_name).plot(ax=plt.axes())\n",
    "plt.show()"
   ]
  },
  {
   "cell_type": "markdown",
   "metadata": {},
   "source": [
    "Аналогично, $error \\approx bias^2 + var$. При росте размера тренировочной выборки растёт и ошибка. Это может быть вызвано различным распределением тренировочных и тестовых данных, или переобучением."
   ]
  },
  {
   "cell_type": "markdown",
   "metadata": {},
   "source": [
    "<h2 align=\"center\">Реализуйте kNN (2 балла)</h2>"
   ]
  },
  {
   "cell_type": "code",
   "execution_count": 81,
   "metadata": {
    "collapsed": true
   },
   "outputs": [],
   "source": [
    "import warnings\n",
    "import numpy as np\n",
    "import scipy.stats as sps\n",
    "\n",
    "warnings.simplefilter(\"ignore\")\n",
    "\n",
    "\n",
    "class kNNClassifier():\n",
    "    def __init__(self, n_neighbours, metric):\n",
    "        \"\"\"\n",
    "        Parameters\n",
    "        ----------\n",
    "        n_neighbours: int\n",
    "            Число соседей\n",
    "\n",
    "        metric: *alias\n",
    "            метрика измерения расстояний\n",
    "\n",
    "          \"\"\"\n",
    "        self.n_neighbours = n_neighbours\n",
    "        self.metric = metric\n",
    "        \n",
    "    def fit(self, X_train, Y_train):\n",
    "        \"\"\"\n",
    "        \n",
    "        Parameters\n",
    "        ----------\n",
    "        X: 2d np.array\n",
    "        y: 1d np.array\n",
    "        \"\"\"\n",
    "\n",
    "        # Тут храните описание объектов обучающей выборки\n",
    "        self.X_train = X_train\n",
    "\n",
    "        # Тут храните ответы по каждому объекту обучающей выборки\n",
    "        self.Y_train = Y_train\n",
    "\n",
    "        \n",
    "        return self\n",
    "\n",
    "    def predict(self, X):\n",
    "        \"\"\"\n",
    "\n",
    "        Parameters\n",
    "        ----------\n",
    "        X: 2d np.array матрица объекты признаки на которых нужно сказать ответ\n",
    "\n",
    "        Returns\n",
    "        -------\n",
    "        y_pred: 1d np.array, вектор классов для каждого объекта\n",
    "        \"\"\"\n",
    "        \n",
    "        dist = np.array([[self.metric(x, y) for y in self.X_train] for x in X])\n",
    "\n",
    "        # =======================================\n",
    "        # предскажите класс каждого из объектов\n",
    "        # =======================================\n",
    "        Y_pred = sps.mode(self.Y_train[dist.argsort()[:, :self.n_neighbours]], axis=1).mode[:, 0]\n",
    "        \n",
    "        return Y_pred"
   ]
  },
  {
   "cell_type": "code",
   "execution_count": 82,
   "metadata": {},
   "outputs": [
    {
     "data": {
      "application/vnd.jupyter.widget-view+json": {
       "model_id": "523745f0028c4d0daa12798b9247c312",
       "version_major": 2,
       "version_minor": 0
      },
      "text/plain": [
       "A Jupyter Widget"
      ]
     },
     "metadata": {},
     "output_type": "display_data"
    },
    {
     "name": "stdout",
     "output_type": "stream",
     "text": [
      "При k = 1:\n",
      "\n",
      "AS на train: 1.0\n",
      "AS на test: 0.7131901840490797\n",
      "При k = 3:\n",
      "AS на train: 0.8489761092150171\n",
      "AS на test: 0.7530674846625767\n",
      "При k = 5:\n",
      "AS на train: 0.8203071672354949\n",
      "AS на test: 0.754601226993865\n",
      "При k = 10:\n",
      "AS на train: 0.8037542662116041\n",
      "AS на test: 0.7515337423312883\n"
     ]
    }
   ],
   "source": [
    "# Запустите ваш алгоритм на данных http://archive.ics.uci.edu/ml/machine-learning-databases/adult\n",
    "from sklearn.metrics import accuracy_score\n",
    "\n",
    "# Get Data\n",
    "data = pd.read_csv('./adult.data', header=None)\n",
    "# преобразуем значения последнего столбца к бинарному типу\n",
    "data[14] = (data[14] == data[14].unique()[0]).astype(int)\n",
    "# оставим только числовые признаки и возьмём 1/5 часть выборки, т.к. иначе очень долго\n",
    "data = data[data.columns[data.dtypes == int]].sample(n=len(data) // 5)\n",
    "X, y = np.array(data[data.columns[:-1]]), np.array(data[data.columns[-1]])\n",
    "X_train, X_test, y_train, y_test = train_test_split(X, y, test_size=0.1)\n",
    "\n",
    "def euclidean_metric(x, y):\n",
    "    return np.sqrt(np.sum((x - y) ** 2))\n",
    "\n",
    "# =======================================\n",
    "# Обучите классификатор при k=3, 5, и 10\n",
    "# =======================================\n",
    "for k in tqdm_notebook([1, 3, 5, 10]):\n",
    "    print('При k = {}:'.format(k))\n",
    "    clf = kNNClassifier(n_neighbours=k, metric=euclidean_metric).fit(X_train, y_train)\n",
    "    print('AS на train: {}'.format(accuracy_score(clf.predict(X_train), y_train)))\n",
    "    print('AS на test: {}'.format(accuracy_score(clf.predict(X_test), y_test)))"
   ]
  },
  {
   "cell_type": "markdown",
   "metadata": {},
   "source": [
    "Как можно, видеть алгоритм выдаёт accuracy 1 при $k=1$ на тренировочной выборке, что соответствует ожидаемому поведению. При этом при увеличении $k$ точность на тренировочной выборке падает, а на тестовой - остаётся примерно на одном уровне."
   ]
  },
  {
   "cell_type": "markdown",
   "metadata": {},
   "source": [
    "<h1 align=\"center\">Отбор признаков (3 балла) </h1>"
   ]
  },
  {
   "cell_type": "markdown",
   "metadata": {},
   "source": [
    "Реализуйте алгоритм отбора признаков ADD_DELL и примените его для kNN на данных sklearn.datasets.digits(). \n",
    "Для этого предлагается реализовать следующие функции"
   ]
  },
  {
   "cell_type": "code",
   "execution_count": 3,
   "metadata": {
    "collapsed": true
   },
   "outputs": [],
   "source": [
    "from copy import copy, deepcopy\n",
    "\n",
    "# обновление минимального значения ошибки\n",
    "def update_Q_min_index(estimator, Q_min, Q_min_set, Q_min_index, feature_set, X_train, Y_train, X_test, Y_test, update_equal=False):\n",
    "    feature_set_size = len(feature_set)\n",
    "    estimator.fit(X_train[:, feature_set], Y_train)\n",
    "    error = 1 - accuracy_score(Y_test, estimator.predict(X_test[:, feature_set]))\n",
    "    if error < Q_min[feature_set_size]:\n",
    "        Q_min_set[feature_set_size] = feature_set\n",
    "        Q_min[feature_set_size] = error\n",
    "        if ((Q_min[feature_set_size] < Q_min[Q_min_index])\n",
    "                or (update_equal and Q_min[feature_set_size] == Q_min[Q_min_index])):\n",
    "            Q_min_index = feature_set_size\n",
    "    return Q_min_index\n",
    "\n",
    "\n",
    "# Нужно реализовать алгоритм добавление\n",
    "def add_one(estimator, feature_set, X_train, Y_train, X_test, Y_test, look_forward=10, start_feature_set=[]):\n",
    "    Q_min = {0: float('+inf')}\n",
    "    Q_min_set = {0: []}\n",
    "    Q_min_index = 0\n",
    "    \n",
    "    # инициализация стартового набора признаков     \n",
    "    if start_feature_set:\n",
    "        estimator.fit(X_train[:, feature_set], Y_train)\n",
    "        error = 1 - accuracy_score(Y_test, estimator.predict(X_test[:, feature_set]))\n",
    "        Q_min = {len(start_feature_set) : error}\n",
    "        Q_min_set = {len(start_feature_set) : start_feature_set}\n",
    "        Q_min_index = len(start_feature_set)\n",
    "    \n",
    "    # добавление признаков     \n",
    "    for feature_set_size in range(len(start_feature_set) + 1, len(feature_set) + 1):\n",
    "        Q_min[feature_set_size] = float('+inf')\n",
    "        unused_features = set(feature_set).difference(set(Q_min_set[feature_set_size - 1]))\n",
    "        unused_features = list(unused_features)\n",
    "        #shuffle(unused_features)\n",
    "        for feature in unused_features:\n",
    "            new_feature_set = Q_min_set[feature_set_size - 1] + [feature]\n",
    "            Q_min_index = update_Q_min_index(estimator, Q_min, Q_min_set, Q_min_index, new_feature_set,\n",
    "                                             X_train, Y_train, X_test, Y_test)\n",
    "        \n",
    "        print ('Q_min: %.4lf, set_size: %d, added: %s' % (Q_min[feature_set_size], feature_set_size, Q_min_set[feature_set_size][-1]))        \n",
    "    \n",
    "    # критерий останова\n",
    "        if Q_min_index + look_forward <= feature_set_size:\n",
    "            break\n",
    "    return Q_min_set[Q_min_index]\n",
    "\n",
    "def del_one(estimator, feature_set, X_train, Y_train, X_test, Y_test, look_forward=10):\n",
    "    \n",
    "#     инициализация\n",
    "    estimator.fit(X_train[:, feature_set], Y_train)\n",
    "    error = 1 - accuracy_score(Y_test, estimator.predict(X_test[:, feature_set]))\n",
    "    Q_min = {len(feature_set): error}\n",
    "    Q_min_set = {len(feature_set): deepcopy(feature_set)}\n",
    "    Q_min_index = len(feature_set)\n",
    "    \n",
    "#     итерационное удаление признаков\n",
    "    for feature_set_size in list(range(len(feature_set) - 1, 0, -1)):\n",
    "        Q_min[feature_set_size] = float('+inf')\n",
    "        features = copy(Q_min_set[feature_set_size + 1])\n",
    "        # shuffle(features)\n",
    "        for feature in features:\n",
    "            new_feature_set = copy(features)\n",
    "            new_feature_set.remove(feature)\n",
    "            Q_min_index = update_Q_min_index(estimator, Q_min, Q_min_set, Q_min_index, new_feature_set,\n",
    "                                             X_train, Y_train, X_test, Y_test)\n",
    "            \n",
    "        print ('Q_min: %.4lf, set_size: %d, deleted: %s' % (Q_min[feature_set_size], feature_set_size,\n",
    "            set(Q_min_set[feature_set_size + 1]).difference(set(Q_min_set[feature_set_size])),\n",
    "        ))\n",
    "        \n",
    "#         критерий останова\n",
    "        if feature_set_size + look_forward <= Q_min_index:\n",
    "            break\n",
    "    return Q_min_set[Q_min_index]\n",
    "\n",
    "# Наконец, реализуйте ADD-DELL\n",
    "def add_del(estimator, feature_set, X_train, Y_train, X_test, Y_test, look_forward=10):\n",
    "    Q_min = None\n",
    "    Q_min_current = float('+inf')\n",
    "    start_feature_set = []\n",
    "    \n",
    "#     количество итераций, приведших к НЕУМЕНЬШЕНИЮ ошибки (здесь я изменил)\n",
    "    bad_iteration_count = 5\n",
    "    \n",
    "    while (Q_min is None) or (Q_min_current < Q_min or bad_iteration_count):\n",
    "        Q_min = Q_min_current\n",
    "        start_feature_set = add_one(estimator, feature_set, X_train, Y_train, X_test, Y_test, look_forward, start_feature_set=start_feature_set)\n",
    "        start_feature_set = del_one(estimator, start_feature_set, X_train, Y_train, X_test, Y_test, look_forward)\n",
    "        estimator.fit(X_train[:, start_feature_set], Y_train)\n",
    "        Q_min_current = 1 - accuracy_score(Y_test, estimator.predict(X_test[:, start_feature_set]))\n",
    "        \n",
    "        if Q_min_current >= Q_min:\n",
    "            bad_iteration_count -= 1\n",
    "        print ('Q_min: %.4lf, set_size: %d' % (Q_min_current, len(start_feature_set)))\n",
    "    return start_feature_set"
   ]
  },
  {
   "cell_type": "code",
   "execution_count": 5,
   "metadata": {
    "scrolled": false
   },
   "outputs": [
    {
     "name": "stdout",
     "output_type": "stream",
     "text": [
      "Q_min: 0.7639, set_size: 1, added: 21\n",
      "Q_min: 0.6000, set_size: 2, added: 42\n",
      "Q_min: 0.4667, set_size: 3, added: 36\n",
      "Q_min: 0.3417, set_size: 4, added: 43\n",
      "Q_min: 0.2361, set_size: 5, added: 61\n",
      "Q_min: 0.1556, set_size: 6, added: 26\n",
      "Q_min: 0.0972, set_size: 7, added: 59\n",
      "Q_min: 0.0667, set_size: 8, added: 28\n",
      "Q_min: 0.0528, set_size: 9, added: 19\n",
      "Q_min: 0.0333, set_size: 10, added: 12\n",
      "Q_min: 0.0222, set_size: 11, added: 33\n",
      "Q_min: 0.0194, set_size: 12, added: 9\n",
      "Q_min: 0.0139, set_size: 13, added: 14\n",
      "Q_min: 0.0111, set_size: 14, added: 51\n",
      "Q_min: 0.0056, set_size: 15, added: 18\n",
      "Q_min: 0.0056, set_size: 16, added: 0\n",
      "Q_min: 0.0056, set_size: 17, added: 1\n",
      "Q_min: 0.0056, set_size: 18, added: 5\n",
      "Q_min: 0.0056, set_size: 19, added: 7\n",
      "Q_min: 0.0111, set_size: 14, deleted: {14}\n",
      "Q_min: 0.0167, set_size: 13, deleted: {18}\n",
      "Q_min: 0.0167, set_size: 12, deleted: {12}\n",
      "Q_min: 0.0194, set_size: 11, deleted: {9}\n",
      "Q_min: 0.0056, set_size: 15\n",
      "Q_min: 0.0056, set_size: 16, added: 0\n",
      "Q_min: 0.0056, set_size: 17, added: 1\n",
      "Q_min: 0.0056, set_size: 18, added: 5\n",
      "Q_min: 0.0056, set_size: 19, added: 7\n",
      "Q_min: 0.0111, set_size: 14, deleted: {14}\n",
      "Q_min: 0.0167, set_size: 13, deleted: {18}\n",
      "Q_min: 0.0167, set_size: 12, deleted: {12}\n",
      "Q_min: 0.0194, set_size: 11, deleted: {9}\n",
      "Q_min: 0.0056, set_size: 15\n",
      "Q_min: 0.0056, set_size: 16, added: 0\n",
      "Q_min: 0.0056, set_size: 17, added: 1\n",
      "Q_min: 0.0056, set_size: 18, added: 5\n",
      "Q_min: 0.0056, set_size: 19, added: 7\n",
      "Q_min: 0.0111, set_size: 14, deleted: {14}\n",
      "Q_min: 0.0167, set_size: 13, deleted: {18}\n",
      "Q_min: 0.0167, set_size: 12, deleted: {12}\n",
      "Q_min: 0.0194, set_size: 11, deleted: {9}\n",
      "Q_min: 0.0056, set_size: 15\n",
      "Q_min: 0.0056, set_size: 16, added: 0\n",
      "Q_min: 0.0056, set_size: 17, added: 1\n",
      "Q_min: 0.0056, set_size: 18, added: 5\n",
      "Q_min: 0.0056, set_size: 19, added: 7\n",
      "Q_min: 0.0111, set_size: 14, deleted: {14}\n",
      "Q_min: 0.0167, set_size: 13, deleted: {18}\n",
      "Q_min: 0.0167, set_size: 12, deleted: {12}\n",
      "Q_min: 0.0194, set_size: 11, deleted: {9}\n",
      "Q_min: 0.0056, set_size: 15\n",
      "Q_min: 0.0056, set_size: 16, added: 0\n",
      "Q_min: 0.0056, set_size: 17, added: 1\n",
      "Q_min: 0.0056, set_size: 18, added: 5\n",
      "Q_min: 0.0056, set_size: 19, added: 7\n",
      "Q_min: 0.0111, set_size: 14, deleted: {14}\n",
      "Q_min: 0.0167, set_size: 13, deleted: {18}\n",
      "Q_min: 0.0167, set_size: 12, deleted: {12}\n",
      "Q_min: 0.0194, set_size: 11, deleted: {9}\n",
      "Q_min: 0.0056, set_size: 15\n",
      "Q_min: 0.0056, set_size: 16, added: 0\n",
      "Q_min: 0.0056, set_size: 17, added: 1\n",
      "Q_min: 0.0056, set_size: 18, added: 5\n",
      "Q_min: 0.0056, set_size: 19, added: 7\n",
      "Q_min: 0.0111, set_size: 14, deleted: {14}\n",
      "Q_min: 0.0167, set_size: 13, deleted: {18}\n",
      "Q_min: 0.0167, set_size: 12, deleted: {12}\n",
      "Q_min: 0.0194, set_size: 11, deleted: {9}\n",
      "Q_min: 0.0056, set_size: 15\n",
      "CPU times: user 18.1 s, sys: 24 ms, total: 18.1 s\n",
      "Wall time: 18 s\n",
      "CPU times: user 8 ms, sys: 4 ms, total: 12 ms\n",
      "Wall time: 9.16 ms\n"
     ]
    },
    {
     "data": {
      "text/plain": [
       "0.99444444444444446"
      ]
     },
     "execution_count": 5,
     "metadata": {},
     "output_type": "execute_result"
    }
   ],
   "source": [
    "from sklearn.datasets import load_digits\n",
    "from sklearn.metrics import accuracy_score\n",
    "digits = load_digits()\n",
    "X, Y = np.array(digits['data']), np.array(digits['target'])\n",
    "X_train, X_test, Y_train, Y_test = train_test_split(X, Y, test_size=0.2)\n",
    "\n",
    "# проверьте вашу реализацию\n",
    "estimator = KNeighborsClassifier()\n",
    "%time feature_set = add_del(estimator, list(range(X_train.shape[1])), X_train, Y_train, X_test, Y_test, look_forward=4)\n",
    "%time accuracy_score(Y_test, estimator.fit(X_train[:, feature_set], Y_train).predict(X_test[:, feature_set]))"
   ]
  },
  {
   "cell_type": "markdown",
   "metadata": {
    "collapsed": true
   },
   "source": [
    "Как можно видеть из вывода, алгоритм часто приходит к ситуации, когда циклично перебирает один и тот же набор множеств признаков. При этом ошибка не увеличивается, но и не уменьшается. Именно поэтому я изменил в алгоритме логику `bad_iteration_count`, потому что в противном случае алгоритм зацикливался.\n",
    "\n",
    "При этом наш алгоритм получил множество признаков, на котором $accuracy \\sim 99.5\\%$, что является очень высоким показателем."
   ]
  }
 ],
 "metadata": {
  "anaconda-cloud": {},
  "kernelspec": {
   "display_name": "Python 3",
   "language": "python",
   "name": "python3"
  },
  "language_info": {
   "codemirror_mode": {
    "name": "ipython",
    "version": 3
   },
   "file_extension": ".py",
   "mimetype": "text/x-python",
   "name": "python",
   "nbconvert_exporter": "python",
   "pygments_lexer": "ipython3",
   "version": "3.6.3"
  }
 },
 "nbformat": 4,
 "nbformat_minor": 1
}
